{
 "cells": [
  {
   "cell_type": "code",
   "execution_count": null,
   "metadata": {},
   "outputs": [],
   "source": [
    "balance = 15000\n",
    "amount = input(\"Enter amount to withddraw : \")\n",
    "remaining_balance = balance - int(amount)\n",
    "print(f'After withdrawing {amount}, your new balance is {remaining_balance}.')\n",
    "if amount > balance:\n",
    "    print(\"insufficient funds\")"
   ]
  },
  {
   "cell_type": "code",
   "execution_count": null,
   "metadata": {},
   "outputs": [],
   "source": [
    "balance = 15000\n",
    "amount = int(input(\"Enter amount to withddraw : \"))\n",
    "remaining_balance = int(balance) - int(amount)\n",
    "if amount > balance:\n",
    "    print(\"insufficient funds\")\n",
    "else\n",
    "    print(f'After withdrawing {amount}, your new balance is {remaining_balance}.')"
   ]
  },
  {
   "cell_type": "code",
   "execution_count": null,
   "metadata": {},
   "outputs": [],
   "source": [
    "balance = 15000\n",
    "amount = int(input(\"Enter amount to withddraw : \"))\n",
    "remaining_balance = int(balance) - int(amount)\n",
    "\n",
    "if amount > balance:\n",
    "    print(\"insufficient funds\")\n",
    "else:\n",
    "    print(f'After withdrawing {amount}, your new balance is {remaining_balance}.')"
   ]
  },
  {
   "cell_type": "code",
   "execution_count": null,
   "metadata": {},
   "outputs": [],
   "source": [
    "balance = 15000\n",
    "amount = int(input(\"Enter amount to withddraw : \"))\n",
    "remaining_balance = int(balance) - int(amount)\n",
    "\n",
    "if amount > balance:\n",
    "    print(f\"Insufficient funds! Current balance is {balance}, Withdrawal amount : {amount} \")\n",
    "else:\n",
    "    new_balance = balance - amount\n",
    "    print(f\"After withdrawing {amount}, your new balance is {remaining_balance}.\")\n",
    "    "
   ]
  },
  {
   "cell_type": "code",
   "execution_count": null,
   "metadata": {},
   "outputs": [],
   "source": [
    "balance = 15000\n",
    "\n",
    "dummy_user_pin = 1234\n",
    "\n",
    "user_pin = int(input('Enter pin to continue'))\n",
    "\n",
    "if user_pin == dummy_user_pin:\n",
    "    amount = int(input('Enter amount to withdraw'))\n",
    "    remaining_balance = int(balance) - int(amount)\n",
    "    if amount > balance:\n",
    "        print(f\"Insufficient funds! Current balance is {balance}, Withdrawal amount : {amount} \")\n",
    "    else:\n",
    "        new_balance = balance - amount\n",
    "        print(f\"After withdrawing {amount}, your new balance is {remaining_balance}.\")\n",
    "else:\n",
    "    print('Pin you entered is incorrect. Please check and try again!!!')\n"
   ]
  },
  {
   "cell_type": "code",
   "execution_count": 7,
   "metadata": {},
   "outputs": [
    {
     "name": "stdout",
     "output_type": "stream",
     "text": [
      "1\n",
      "3\n",
      "9\n"
     ]
    }
   ],
   "source": [
    "dahkhfaodhiahihfuahiuhfuahuhfasudh"
   ]
  },
  {
   "cell_type": "code",
   "execution_count": 1,
   "metadata": {},
   "outputs": [
    {
     "name": "stdout",
     "output_type": "stream",
     "text": [
      "Enter pin to continue1234\n",
      "Enter amount to withdraw10\n",
      "After withdrawing 10, your new balance is 14990.\n"
     ]
    }
   ],
   "source": [
    "balance = 15000\n",
    "\n",
    "dummy_user_pin = 1234\n",
    "\n",
    "user_pin = int(input('Enter pin to continue'))\n",
    "\n",
    "if user_pin == dummy_user_pin:\n",
    "    amount = int(input('Enter amount to withdraw'))\n",
    "    remaining_balance = int(balance) - int(amount)\n",
    "    if amount > balance:\n",
    "        print(f\"Insufficient funds! Current balance is {balance}, Withdrawal amount : {amount} \")\n",
    "    else:\n",
    "        new_balance = balance - amount\n",
    "        print(f\"After withdrawing {amount}, your new balance is {remaining_balance}.\")\n",
    "else:\n",
    "    print('Pin you entered is incorrect. Please check and try again!!!')\n"
   ]
  },
  {
   "cell_type": "code",
   "execution_count": 1,
   "metadata": {
    "scrolled": true
   },
   "outputs": [
    {
     "ename": "KeyboardInterrupt",
     "evalue": "",
     "output_type": "error",
     "traceback": [
      "\u001b[0;31m---------------------------------------------------------------------------\u001b[0m",
      "\u001b[0;31mKeyboardInterrupt\u001b[0m                         Traceback (most recent call last)",
      "\u001b[0;32m/opt/anaconda3/lib/python3.7/site-packages/ipykernel/kernelbase.py\u001b[0m in \u001b[0;36m_input_request\u001b[0;34m(self, prompt, ident, parent, password)\u001b[0m\n\u001b[1;32m    884\u001b[0m             \u001b[0;32mtry\u001b[0m\u001b[0;34m:\u001b[0m\u001b[0;34m\u001b[0m\u001b[0;34m\u001b[0m\u001b[0m\n\u001b[0;32m--> 885\u001b[0;31m                 \u001b[0mident\u001b[0m\u001b[0;34m,\u001b[0m \u001b[0mreply\u001b[0m \u001b[0;34m=\u001b[0m \u001b[0mself\u001b[0m\u001b[0;34m.\u001b[0m\u001b[0msession\u001b[0m\u001b[0;34m.\u001b[0m\u001b[0mrecv\u001b[0m\u001b[0;34m(\u001b[0m\u001b[0mself\u001b[0m\u001b[0;34m.\u001b[0m\u001b[0mstdin_socket\u001b[0m\u001b[0;34m,\u001b[0m \u001b[0;36m0\u001b[0m\u001b[0;34m)\u001b[0m\u001b[0;34m\u001b[0m\u001b[0;34m\u001b[0m\u001b[0m\n\u001b[0m\u001b[1;32m    886\u001b[0m             \u001b[0;32mexcept\u001b[0m \u001b[0mException\u001b[0m\u001b[0;34m:\u001b[0m\u001b[0;34m\u001b[0m\u001b[0;34m\u001b[0m\u001b[0m\n",
      "\u001b[0;32m/opt/anaconda3/lib/python3.7/site-packages/jupyter_client/session.py\u001b[0m in \u001b[0;36mrecv\u001b[0;34m(self, socket, mode, content, copy)\u001b[0m\n\u001b[1;32m    802\u001b[0m         \u001b[0;32mtry\u001b[0m\u001b[0;34m:\u001b[0m\u001b[0;34m\u001b[0m\u001b[0;34m\u001b[0m\u001b[0m\n\u001b[0;32m--> 803\u001b[0;31m             \u001b[0mmsg_list\u001b[0m \u001b[0;34m=\u001b[0m \u001b[0msocket\u001b[0m\u001b[0;34m.\u001b[0m\u001b[0mrecv_multipart\u001b[0m\u001b[0;34m(\u001b[0m\u001b[0mmode\u001b[0m\u001b[0;34m,\u001b[0m \u001b[0mcopy\u001b[0m\u001b[0;34m=\u001b[0m\u001b[0mcopy\u001b[0m\u001b[0;34m)\u001b[0m\u001b[0;34m\u001b[0m\u001b[0;34m\u001b[0m\u001b[0m\n\u001b[0m\u001b[1;32m    804\u001b[0m         \u001b[0;32mexcept\u001b[0m \u001b[0mzmq\u001b[0m\u001b[0;34m.\u001b[0m\u001b[0mZMQError\u001b[0m \u001b[0;32mas\u001b[0m \u001b[0me\u001b[0m\u001b[0;34m:\u001b[0m\u001b[0;34m\u001b[0m\u001b[0;34m\u001b[0m\u001b[0m\n",
      "\u001b[0;32m/opt/anaconda3/lib/python3.7/site-packages/zmq/sugar/socket.py\u001b[0m in \u001b[0;36mrecv_multipart\u001b[0;34m(self, flags, copy, track)\u001b[0m\n\u001b[1;32m    474\u001b[0m         \"\"\"\n\u001b[0;32m--> 475\u001b[0;31m         \u001b[0mparts\u001b[0m \u001b[0;34m=\u001b[0m \u001b[0;34m[\u001b[0m\u001b[0mself\u001b[0m\u001b[0;34m.\u001b[0m\u001b[0mrecv\u001b[0m\u001b[0;34m(\u001b[0m\u001b[0mflags\u001b[0m\u001b[0;34m,\u001b[0m \u001b[0mcopy\u001b[0m\u001b[0;34m=\u001b[0m\u001b[0mcopy\u001b[0m\u001b[0;34m,\u001b[0m \u001b[0mtrack\u001b[0m\u001b[0;34m=\u001b[0m\u001b[0mtrack\u001b[0m\u001b[0;34m)\u001b[0m\u001b[0;34m]\u001b[0m\u001b[0;34m\u001b[0m\u001b[0;34m\u001b[0m\u001b[0m\n\u001b[0m\u001b[1;32m    476\u001b[0m         \u001b[0;31m# have first part already, only loop while more to receive\u001b[0m\u001b[0;34m\u001b[0m\u001b[0;34m\u001b[0m\u001b[0;34m\u001b[0m\u001b[0m\n",
      "\u001b[0;32mzmq/backend/cython/socket.pyx\u001b[0m in \u001b[0;36mzmq.backend.cython.socket.Socket.recv\u001b[0;34m()\u001b[0m\n",
      "\u001b[0;32mzmq/backend/cython/socket.pyx\u001b[0m in \u001b[0;36mzmq.backend.cython.socket.Socket.recv\u001b[0;34m()\u001b[0m\n",
      "\u001b[0;32mzmq/backend/cython/socket.pyx\u001b[0m in \u001b[0;36mzmq.backend.cython.socket._recv_copy\u001b[0;34m()\u001b[0m\n",
      "\u001b[0;32m/opt/anaconda3/lib/python3.7/site-packages/zmq/backend/cython/checkrc.pxd\u001b[0m in \u001b[0;36mzmq.backend.cython.checkrc._check_rc\u001b[0;34m()\u001b[0m\n",
      "\u001b[0;31mKeyboardInterrupt\u001b[0m: ",
      "\nDuring handling of the above exception, another exception occurred:\n",
      "\u001b[0;31mKeyboardInterrupt\u001b[0m                         Traceback (most recent call last)",
      "\u001b[0;32m<ipython-input-1-f260db0dc98a>\u001b[0m in \u001b[0;36m<module>\u001b[0;34m\u001b[0m\n\u001b[1;32m      3\u001b[0m \u001b[0mdummy_user_pin\u001b[0m \u001b[0;34m=\u001b[0m \u001b[0;36m1234\u001b[0m\u001b[0;34m\u001b[0m\u001b[0;34m\u001b[0m\u001b[0m\n\u001b[1;32m      4\u001b[0m \u001b[0;34m\u001b[0m\u001b[0m\n\u001b[0;32m----> 5\u001b[0;31m \u001b[0muser_pin\u001b[0m \u001b[0;34m=\u001b[0m \u001b[0mint\u001b[0m\u001b[0;34m(\u001b[0m\u001b[0minput\u001b[0m\u001b[0;34m(\u001b[0m\u001b[0;34m'Enter pin to continue'\u001b[0m\u001b[0;34m)\u001b[0m\u001b[0;34m)\u001b[0m\u001b[0;34m\u001b[0m\u001b[0;34m\u001b[0m\u001b[0m\n\u001b[0m\u001b[1;32m      6\u001b[0m \u001b[0;34m\u001b[0m\u001b[0m\n\u001b[1;32m      7\u001b[0m \u001b[0;32mif\u001b[0m \u001b[0muser_pin\u001b[0m \u001b[0;34m==\u001b[0m \u001b[0mdummy_user_pin\u001b[0m\u001b[0;34m:\u001b[0m\u001b[0;34m\u001b[0m\u001b[0;34m\u001b[0m\u001b[0m\n",
      "\u001b[0;32m/opt/anaconda3/lib/python3.7/site-packages/ipykernel/kernelbase.py\u001b[0m in \u001b[0;36mraw_input\u001b[0;34m(self, prompt)\u001b[0m\n\u001b[1;32m    858\u001b[0m             \u001b[0mself\u001b[0m\u001b[0;34m.\u001b[0m\u001b[0m_parent_ident\u001b[0m\u001b[0;34m,\u001b[0m\u001b[0;34m\u001b[0m\u001b[0;34m\u001b[0m\u001b[0m\n\u001b[1;32m    859\u001b[0m             \u001b[0mself\u001b[0m\u001b[0;34m.\u001b[0m\u001b[0m_parent_header\u001b[0m\u001b[0;34m,\u001b[0m\u001b[0;34m\u001b[0m\u001b[0;34m\u001b[0m\u001b[0m\n\u001b[0;32m--> 860\u001b[0;31m             \u001b[0mpassword\u001b[0m\u001b[0;34m=\u001b[0m\u001b[0;32mFalse\u001b[0m\u001b[0;34m,\u001b[0m\u001b[0;34m\u001b[0m\u001b[0;34m\u001b[0m\u001b[0m\n\u001b[0m\u001b[1;32m    861\u001b[0m         )\n\u001b[1;32m    862\u001b[0m \u001b[0;34m\u001b[0m\u001b[0m\n",
      "\u001b[0;32m/opt/anaconda3/lib/python3.7/site-packages/ipykernel/kernelbase.py\u001b[0m in \u001b[0;36m_input_request\u001b[0;34m(self, prompt, ident, parent, password)\u001b[0m\n\u001b[1;32m    888\u001b[0m             \u001b[0;32mexcept\u001b[0m \u001b[0mKeyboardInterrupt\u001b[0m\u001b[0;34m:\u001b[0m\u001b[0;34m\u001b[0m\u001b[0;34m\u001b[0m\u001b[0m\n\u001b[1;32m    889\u001b[0m                 \u001b[0;31m# re-raise KeyboardInterrupt, to truncate traceback\u001b[0m\u001b[0;34m\u001b[0m\u001b[0;34m\u001b[0m\u001b[0;34m\u001b[0m\u001b[0m\n\u001b[0;32m--> 890\u001b[0;31m                 \u001b[0;32mraise\u001b[0m \u001b[0mKeyboardInterrupt\u001b[0m\u001b[0;34m\u001b[0m\u001b[0;34m\u001b[0m\u001b[0m\n\u001b[0m\u001b[1;32m    891\u001b[0m             \u001b[0;32melse\u001b[0m\u001b[0;34m:\u001b[0m\u001b[0;34m\u001b[0m\u001b[0;34m\u001b[0m\u001b[0m\n\u001b[1;32m    892\u001b[0m                 \u001b[0;32mbreak\u001b[0m\u001b[0;34m\u001b[0m\u001b[0;34m\u001b[0m\u001b[0m\n",
      "\u001b[0;31mKeyboardInterrupt\u001b[0m: "
     ]
    },
    {
     "name": "stdout",
     "output_type": "stream",
     "text": [
      "Enter pin to continue1234\n"
     ]
    }
   ],
   "source": [
    "balance = 15000\n",
    "\n",
    "dummy_user_pin = 1234\n",
    "\n",
    "user_pin = int(input('Enter pin to continue'))\n",
    "\n",
    "if user_pin == dummy_user_pin:\n",
    "    amount = int(input('Enter amount to withdraw'))\n",
    "    remaining_balance = int(balance) - int(amount)\n",
    "    if amount > balance:\n",
    "        print(f\"Insufficient funds! Current balance is {balance}, Withdrawal amount : {amount} \")\n",
    "    else:\n",
    "        new_balance = balance - amount\n",
    "        print(f\"After withdrawing {amount}, your new balance is {remaining_balance}.\")\n",
    "else:\n",
    "    print('Pin you entered is incorrect. Please check and try again!!!')\n",
    "    \n"
   ]
  },
  {
   "cell_type": "code",
   "execution_count": 32,
   "metadata": {},
   "outputs": [
    {
     "name": "stdout",
     "output_type": "stream",
     "text": [
      "Enter pin to continue1111\n",
      "Pin you entered is incorrect. Please check and try again!\n",
      "You have 2 attempt(s) left\n",
      "Enter pin to continue0000\n",
      "Pin you entered is incorrect. Please check and try again!\n",
      "You have 1 attempt(s) left\n",
      "Enter pin to continue3456\n",
      "Your Card has been blocked after 3 attempts, please contact your bank.\n"
     ]
    }
   ],
   "source": [
    "counter = 1\n",
    "balance = 15000\n",
    "dummy_user_pin = 1234\n",
    "\n",
    "while(True):\n",
    "    user_pin = int(input('Enter pin to continue'))\n",
    "    if user_pin == dummy_user_pin:\n",
    "        amount = int(input('Enter amount to withdraw'))\n",
    "        remaining_balance = int(balance)- int(amount)\n",
    "        if amount > balance: \n",
    "            print(f\"Insufficient funds! Current balance is {balance}, Withdrawal amount : {amount} \")\n",
    "        else: \n",
    "            new_balance = balance - amount\n",
    "            print(f\"After withdrawing {amount}, your new balance is {remaining_balance}.\")\n",
    "        break\n",
    "    \n",
    "        \n",
    "    if counter == 3: \n",
    "        print(\"Your Card has been blocked after 3 attempts, please contact your bank.\")\n",
    "        break\n",
    "    else:\n",
    "        print('Pin you entered is incorrect. Please check and try again!')\n",
    "        print(f'You have {3 - counter} attempt(s) left')\n",
    "\n",
    "    counter += 1  \n",
    "    "
   ]
  },
  {
   "cell_type": "code",
   "execution_count": 21,
   "metadata": {},
   "outputs": [
    {
     "name": "stdout",
     "output_type": "stream",
     "text": [
      "1\n",
      "do something\n",
      "2\n",
      "do something\n",
      "3\n",
      "do something\n"
     ]
    }
   ],
   "source": [
    "counter =1\n",
    "\n",
    "\n",
    "# while(True): \n",
    "#     print(counter)\n",
    "#     print('do something') \n",
    "#     if counter == 3:\n",
    "#         break \n",
    "#     else:\n",
    "#         counter += 1\n",
    "    \n",
    "    \n",
    "while(counter <= 3):\n",
    "    print(counter)\n",
    "    print('do something')\n",
    "    counter += 1"
   ]
  },
  {
   "cell_type": "code",
   "execution_count": 14,
   "metadata": {},
   "outputs": [
    {
     "data": {
      "text/plain": [
       "1"
      ]
     },
     "execution_count": 14,
     "metadata": {},
     "output_type": "execute_result"
    }
   ],
   "source": [
    "counter"
   ]
  },
  {
   "cell_type": "code",
   "execution_count": null,
   "metadata": {},
   "outputs": [],
   "source": []
  }
 ],
 "metadata": {
  "kernelspec": {
   "display_name": "Python 3",
   "language": "python",
   "name": "python3"
  },
  "language_info": {
   "codemirror_mode": {
    "name": "ipython",
    "version": 3
   },
   "file_extension": ".py",
   "mimetype": "text/x-python",
   "name": "python",
   "nbconvert_exporter": "python",
   "pygments_lexer": "ipython3",
   "version": "3.7.4"
  }
 },
 "nbformat": 4,
 "nbformat_minor": 2
}
