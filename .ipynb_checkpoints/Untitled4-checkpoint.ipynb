{
 "cells": [
  {
   "cell_type": "code",
   "execution_count": null,
   "metadata": {},
   "outputs": [],
   "source": [
    "balance = 15000\n",
    "amount = input(\"Enter amount to withddraw : \")\n",
    "remaining_balance = balance - int(amount)\n",
    "print(f'After withdrawing {amount}, your new balance is {remaining_balance}.')\n",
    "if amount > balance:\n",
    "    print(\"insufficient funds\")"
   ]
  },
  {
   "cell_type": "code",
   "execution_count": null,
   "metadata": {},
   "outputs": [],
   "source": [
    "balance = 15000\n",
    "amount = int(input(\"Enter amount to withddraw : \"))\n",
    "remaining_balance = int(balance) - int(amount)\n",
    "if amount > balance:\n",
    "    print(\"insufficient funds\")\n",
    "else\n",
    "    print(f'After withdrawing {amount}, your new balance is {remaining_balance}.')"
   ]
  },
  {
   "cell_type": "code",
   "execution_count": null,
   "metadata": {},
   "outputs": [],
   "source": [
    "balance = 15000\n",
    "amount = int(input(\"Enter amount to withddraw : \"))\n",
    "remaining_balance = int(balance) - int(amount)\n",
    "\n",
    "if amount > balance:\n",
    "    print(\"insufficient funds\")\n",
    "else:\n",
    "    print(f'After withdrawing {amount}, your new balance is {remaining_balance}.')"
   ]
  },
  {
   "cell_type": "code",
   "execution_count": null,
   "metadata": {},
   "outputs": [],
   "source": [
    "balance = 15000\n",
    "amount = int(input(\"Enter amount to withddraw : \"))\n",
    "remaining_balance = int(balance) - int(amount)\n",
    "\n",
    "if amount > balance:\n",
    "    print(f\"Insufficient funds! Current balance is {balance}, Withdrawal amount : {amount} \")\n",
    "else:\n",
    "    new_balance = balance - amount\n",
    "    print(f\"After withdrawing {amount}, your new balance is {remaining_balance}.\")\n",
    "    "
   ]
  },
  {
   "cell_type": "code",
   "execution_count": null,
   "metadata": {},
   "outputs": [],
   "source": [
    "balance = 15000\n",
    "\n",
    "dummy_user_pin = 1234\n",
    "\n",
    "user_pin = int(input('Enter pin to continue'))\n",
    "\n",
    "if user_pin == dummy_user_pin:\n",
    "    amount = int(input('Enter amount to withdraw'))\n",
    "    remaining_balance = int(balance) - int(amount)\n",
    "    if amount > balance:\n",
    "        print(f\"Insufficient funds! Current balance is {balance}, Withdrawal amount : {amount} \")\n",
    "    else:\n",
    "        new_balance = balance - amount\n",
    "        print(f\"After withdrawing {amount}, your new balance is {remaining_balance}.\")\n",
    "else:\n",
    "    print('Pin you entered is incorrect. Please check and try again!!!')\n"
   ]
  },
  {
   "cell_type": "code",
   "execution_count": 7,
   "metadata": {},
   "outputs": [
    {
     "name": "stdout",
     "output_type": "stream",
     "text": [
      "1\n",
      "3\n",
      "9\n"
     ]
    }
   ],
   "source": [
    "dahkhfaodhiahihfuahiuhfuahuhfasudh"
   ]
  },
  {
   "cell_type": "code",
   "execution_count": null,
   "metadata": {},
   "outputs": [],
   "source": []
  },
  {
   "cell_type": "code",
   "execution_count": null,
   "metadata": {},
   "outputs": [],
   "source": []
  }
 ],
 "metadata": {
  "kernelspec": {
   "display_name": "Python 3",
   "language": "python",
   "name": "python3"
  },
  "language_info": {
   "codemirror_mode": {
    "name": "ipython",
    "version": 3
   },
   "file_extension": ".py",
   "mimetype": "text/x-python",
   "name": "python",
   "nbconvert_exporter": "python",
   "pygments_lexer": "ipython3",
   "version": "3.7.4"
  }
 },
 "nbformat": 4,
 "nbformat_minor": 2
}
